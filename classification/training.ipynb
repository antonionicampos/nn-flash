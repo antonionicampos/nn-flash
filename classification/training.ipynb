{
 "cells": [
  {
   "cell_type": "code",
   "execution_count": 1,
   "metadata": {},
   "outputs": [],
   "source": [
    "import matplotlib.pyplot as plt\n",
    "import numpy as np\n",
    "import os\n",
    "import pandas as pd\n",
    "import tensorflow as tf\n",
    "\n",
    "from classification.utils import (\n",
    "    training_model,\n",
    "    training_history,\n",
    "    preprocessing,\n",
    "    performance_evaluation,\n",
    ")\n",
    "from glob import glob\n",
    "\n",
    "np.set_printoptions(precision=4, suppress=True)\n",
    "\n",
    "plt.style.use(\"seaborn-v0_8-paper\")\n",
    "plt.style.use(\"styles/l3_mod.mplstyle\")"
   ]
  },
  {
   "cell_type": "code",
   "execution_count": 2,
   "metadata": {},
   "outputs": [
    {
     "name": "stdout",
     "output_type": "stream",
     "text": [
      "train: (1111, 34), valid: (139, 34)\n"
     ]
    }
   ],
   "source": [
    "data_folder = \"001points\"\n",
    "data_path = os.path.join(\"data\", \"experimental\", \"classification\", data_folder)\n",
    "\n",
    "train_files = glob(os.path.join(data_path, \"train_data*.csv\"))\n",
    "valid_files = glob(os.path.join(data_path, \"valid_data*.csv\"))\n",
    "\n",
    "train_data = pd.read_csv(train_files[0])\n",
    "valid_data = pd.read_csv(valid_files[0])\n",
    "\n",
    "print(f\"train: {train_data.shape}, valid: {valid_data.shape}\")"
   ]
  },
  {
   "cell_type": "code",
   "execution_count": 3,
   "metadata": {},
   "outputs": [
    {
     "data": {
      "application/vnd.jupyter.widget-view+json": {
       "model_id": "75af572b73564ebb94cff83331cb4d8e",
       "version_major": 2,
       "version_minor": 0
      },
      "text/plain": [
       "  0%|          | 0/10 [00:00<?, ?it/s]"
      ]
     },
     "metadata": {},
     "output_type": "display_data"
    },
    {
     "data": {
      "application/vnd.jupyter.widget-view+json": {
       "model_id": "6ad65455e34f43739f9babb6e74fbe78",
       "version_major": 2,
       "version_minor": 0
      },
      "text/plain": [
       "  0%|          | 0/10 [00:00<?, ?it/s]"
      ]
     },
     "metadata": {},
     "output_type": "display_data"
    }
   ],
   "source": [
    "# training\n",
    "hparams = [\n",
    "    {\"hidden_layers\": [32], \"activation\": tf.keras.activations.relu},\n",
    "    {\"hidden_layers\": [], \"activation\": tf.keras.activations.relu},\n",
    "    {\"hidden_layers\": [32, 32, 32], \"activation\": tf.keras.activations.swish},\n",
    "]\n",
    "\n",
    "results = []\n",
    "for hp in hparams:\n",
    "    r = training_model(train_files, valid_files, **hp)\n",
    "    results.append(r)"
   ]
  },
  {
   "cell_type": "code",
   "execution_count": 7,
   "metadata": {},
   "outputs": [],
   "source": [
    "perf = performance_evaluation(results, valid_files)"
   ]
  },
  {
   "cell_type": "code",
   "execution_count": 21,
   "metadata": {},
   "outputs": [
    {
     "data": {
      "image/png": "[encoded data removed]",
      "text/plain": [
       "<Figure size 500x400 with 1 Axes>"
      ]
     },
     "metadata": {},
     "output_type": "display_data"
    }
   ],
   "source": [
    "accuracy = perf[\"accuracy\"]\n",
    "\n",
    "f, ax = plt.subplots(figsize=(5, 4))\n",
    "\n",
    "\n",
    "ax.boxplot(accuracy, widths=0.5)\n",
    "ax.set_xticks(\n",
    "    np.arange(1, len(results) + 1),\n",
    "    labels=[f\"Model{i+1}\" for i in np.arange(len(results))],\n",
    ")\n",
    "ax.set_ylabel(\"Accuracy\")\n",
    "plt.show()"
   ]
  },
  {
   "cell_type": "code",
   "execution_count": null,
   "metadata": {},
   "outputs": [],
   "source": []
  }
 ],
 "metadata": {
  "kernelspec": {
   "display_name": ".venv",
   "language": "python",
   "name": "python3"
  },
  "language_info": {
   "codemirror_mode": {
    "name": "ipython",
    "version": 3
   },
   "file_extension": ".py",
   "mimetype": "text/x-python",
   "name": "python",
   "nbconvert_exporter": "python",
   "pygments_lexer": "ipython3",
   "version": "3.10.11"
  }
 },
 "nbformat": 4,
 "nbformat_minor": 2
}
