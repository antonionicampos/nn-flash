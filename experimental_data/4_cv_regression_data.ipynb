{
 "cells": [
  {
   "cell_type": "code",
   "execution_count": null,
   "metadata": {},
   "outputs": [],
   "source": [
    "import numpy as np\n",
    "import os\n",
    "import pandas as pd\n",
    "\n",
    "from experimental_data.utils import set_components\n",
    "from neqsim.thermo import TPflash\n",
    "from sklearn.model_selection import StratifiedKFold\n",
    "from typing import Dict"
   ]
  },
  {
   "cell_type": "code",
   "execution_count": null,
   "metadata": {},
   "outputs": [],
   "source": [
    "df = pd.read_csv(\n",
    "    \"experimental_data\\\\thermodinamically_processed_data.csv\",\n",
    "    index_col=False,\n",
    ")\n",
    "composition_data = df.loc[:, df.columns.str.contains(\"z\")]\n",
    "\n",
    "print(f\"Dataset: {df.shape[0]} samples\")\n",
    "df.head()"
   ]
  },
  {
   "cell_type": "code",
   "execution_count": null,
   "metadata": {},
   "outputs": [],
   "source": [
    "samples_per_composition = 3\n",
    "\n",
    "# TODO: Add output column names gas fraction (nV) and equiibrium ratios (K)\n",
    "samples = pd.DataFrame(columns=df.columns.to_list() + [\"P\", \"T\", ...])\n",
    "\n",
    "for i in np.arange(df.shape[0]):\n",
    "    fluid1 = set_components(composition_data.loc[i, :].to_dict())\n",
    "\n",
    "    # P_min = 10 bara   T_min = 150 K\n",
    "    # P_max = 450 bara  T_max = 1125 K\n",
    "    sample = []\n",
    "\n",
    "    while len(sample) < samples_per_composition:\n",
    "        P_sample = np.random.uniform(10, 450)\n",
    "        T_sample = np.random.uniform(150, 1125)\n",
    "\n",
    "        # TODO: Run flash calculations and obtain gas fraction and equilibrium \n",
    "        #       ratios to create a sample\n",
    "        fluid1.setTemperature(T_sample, \"K\")\n",
    "        fluid1.setPressure(P_sample, \"bara\")\n",
    "        TPflash(fluid1)\n",
    "\n",
    "        phases = [p for p in fluid1.getPhases() if p]\n",
    "        phases_names = [phase.getPhaseTypeName() for phase in phases]\n",
    "\n",
    "        if fluid1.getNumberOfPhases() == 2:\n",
    "            if len(sample) < samples_per_composition:\n",
    "                sample.append([T_sample, P_sample])\n",
    "\n",
    "    new_samples = []\n",
    "\n",
    "    for s in sample:\n",
    "        # TODO: Create sample with calculations results\n",
    "        sample_dict = df.iloc[i, :].to_dict()\n",
    "        sample_dict[\"T\"] = s[0]\n",
    "        sample_dict[\"P\"] = s[1]\n",
    "        sample_dict[\"class\"] = \"oil\"\n",
    "        new_samples.append(sample_dict)\n",
    "\n",
    "    samples = pd.concat([samples, pd.DataFrame.from_records(new_samples)])\n",
    "\n",
    "samples"
   ]
  },
  {
   "cell_type": "code",
   "execution_count": null,
   "metadata": {},
   "outputs": [],
   "source": [
    "skf = StratifiedKFold(n_splits=10, shuffle=True, random_state=13)\n",
    "folder_path = f\"data\\\\experimental\\\\regression\\\\{samples_per_composition:03d}points\\\\\"\n",
    "\n",
    "if not os.path.isdir(folder_path):\n",
    "    os.mkdir(folder_path)\n",
    "\n",
    "samples = samples.sample(frac=1, ignore_index=True)\n",
    "for i, (train_idx, test_idx) in enumerate(skf.split(samples, samples[\"class\"])):\n",
    "    train_size = train_idx.shape[0] - test_idx.shape[0]\n",
    "    train_idx, valid_idx = train_idx[:train_size], train_idx[train_size:]\n",
    "\n",
    "    print(f\">>>> Fold {i+1} >>>>>>>>>>>>>>>>>>>>>>\")\n",
    "    print(\"train: \", train_idx.shape[0], \", valid: \", valid_idx.shape[0], \", test: \", test_idx.shape[0], sep=\"\")\n",
    "    train = samples.iloc[train_idx, :]\n",
    "    valid = samples.iloc[valid_idx, :]\n",
    "    test = samples.iloc[test_idx, :]\n",
    "    print(\"train per class:\")\n",
    "    print(f'    {train[train[\"class\"]==\"oil\"].shape[0]} (oil),', end=\" \")\n",
    "    print(f'{train[train[\"class\"]==\"gas\"].shape[0]} (gas),', end=\" \")\n",
    "    print(f'{train[train[\"class\"]==\"mix\"].shape[0]} (mix)')\n",
    "    print(\"valid per class:\")\n",
    "    print(f'    {valid[valid[\"class\"]==\"oil\"].shape[0]} (oil),', end=\" \")\n",
    "    print(f'{valid[valid[\"class\"]==\"gas\"].shape[0]} (gas),', end=\" \")\n",
    "    print(f'{valid[valid[\"class\"]==\"mix\"].shape[0]} (mix)')\n",
    "    print(\"test per class:\")\n",
    "    print(f'    {test[test[\"class\"]==\"oil\"].shape[0]} (oil),', end=\" \")\n",
    "    print(f'{test[test[\"class\"]==\"gas\"].shape[0]} (gas),', end=\" \")\n",
    "    print(f'{test[test[\"class\"]==\"mix\"].shape[0]} (mix)')\n",
    "\n",
    "    print()\n",
    "    samples.iloc[train_idx, :].to_csv(f\"{folder_path}train_data_fold={i+1:02d}.csv\", index=False)\n",
    "    samples.iloc[valid_idx, :].to_csv(f\"{folder_path}valid_data_fold={i+1:02d}.csv\", index=False)\n",
    "    samples.iloc[test_idx, :].to_csv(f\"{folder_path}test_data_fold={i+1:02d}.csv\", index=False)"
   ]
  },
  {
   "cell_type": "code",
   "execution_count": null,
   "metadata": {},
   "outputs": [],
   "source": []
  }
 ],
 "metadata": {
  "kernelspec": {
   "display_name": ".venv",
   "language": "python",
   "name": "python3"
  },
  "language_info": {
   "codemirror_mode": {
    "name": "ipython",
    "version": 3
   },
   "file_extension": ".py",
   "mimetype": "text/x-python",
   "name": "python",
   "nbconvert_exporter": "python",
   "pygments_lexer": "ipython3",
   "version": "3.10.11"
  }
 },
 "nbformat": 4,
 "nbformat_minor": 2
}
