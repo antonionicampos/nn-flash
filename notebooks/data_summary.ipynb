{
 "cells": [
  {
   "cell_type": "code",
   "execution_count": 1,
   "metadata": {},
   "outputs": [],
   "source": [
    "from src.data.handlers import DataLoader"
   ]
  },
  {
   "cell_type": "code",
   "execution_count": 2,
   "metadata": {},
   "outputs": [
    {
     "name": "stdout",
     "output_type": "stream",
     "text": [
      "Fold #01: 111 | 19 | 18\n",
      "Fold #02: 111 | 19 | 18\n",
      "Fold #03: 111 | 19 | 18\n",
      "Fold #04: 111 | 19 | 18\n"
     ]
    }
   ],
   "source": [
    "dl = DataLoader()\n",
    "\n",
    "problem = \"regression\"\n",
    "datasets, min_max = dl.load_cross_validation_datasets(problem=problem)\n",
    "\n",
    "for i, (train, valid, test) in enumerate(zip(datasets[\"train\"], datasets[\"valid\"], datasets[\"test\"])):\n",
    "    if problem == \"classification\":\n",
    "        print(f\"Fold #{i+1:02d}\", end=\": \")\n",
    "        print(train[\"features\"].shape[0], valid[\"features\"].shape[0], test[\"features\"].shape[0], sep=\" | \")\n",
    "        print(f'Gas: {train[\"features\"][train[\"targets\"][\"gas\"] == 1].shape[0]} | {valid[\"features\"][valid[\"targets\"][\"gas\"] == 1].shape[0]} | {test[\"features\"][test[\"targets\"][\"gas\"] == 1].shape[0]}')\n",
    "        print(f'Oil: {train[\"features\"][train[\"targets\"][\"oil\"] == 1].shape[0]} | {valid[\"features\"][valid[\"targets\"][\"oil\"] == 1].shape[0]} | {test[\"features\"][test[\"targets\"][\"oil\"] == 1].shape[0]}')\n",
    "        print(f'Mix: {train[\"features\"][train[\"targets\"][\"mix\"] == 1].shape[0]} | {valid[\"features\"][valid[\"targets\"][\"mix\"] == 1].shape[0]} | {test[\"features\"][test[\"targets\"][\"mix\"] == 1].shape[0]}')\n",
    "        print()\n",
    "    elif problem == \"regression\":\n",
    "        print(f\"Fold #{i+1:02d}\", end=\": \")\n",
    "        print(train[\"features\"].shape[0], valid[\"features\"].shape[0], test[\"features\"].shape[0], sep=\" | \")\n",
    "    elif problem == \"synthesis\":\n",
    "        print(f\"Fold #{i+1:02d}\", end=\": \")\n",
    "        print(train[\"features\"].shape[0], valid[\"features\"].shape[0], test[\"features\"].shape[0], sep=\" | \")"
   ]
  },
  {
   "cell_type": "code",
   "execution_count": null,
   "metadata": {},
   "outputs": [],
   "source": []
  }
 ],
 "metadata": {
  "kernelspec": {
   "display_name": ".venv",
   "language": "python",
   "name": "python3"
  },
  "language_info": {
   "codemirror_mode": {
    "name": "ipython",
    "version": 3
   },
   "file_extension": ".py",
   "mimetype": "text/x-python",
   "name": "python",
   "nbconvert_exporter": "python",
   "pygments_lexer": "ipython3",
   "version": "3.10.11"
  }
 },
 "nbformat": 4,
 "nbformat_minor": 2
}
